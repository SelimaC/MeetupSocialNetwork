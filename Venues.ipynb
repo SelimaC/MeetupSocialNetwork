{
 "cells": [
  {
   "cell_type": "code",
   "execution_count": 58,
   "metadata": {
    "ExecuteTime": {
     "end_time": "2019-05-26T11:20:59.638815Z",
     "start_time": "2019-05-26T11:20:59.147137Z"
    }
   },
   "outputs": [],
   "source": [
    "import pandas as pd\n",
    "import numpy as np\n",
    "\n",
    "venues = pd.read_csv(\"venues.csv\", encoding=\"latin-1\")\n",
    "venues_more = pd.read_csv(\"venues_more.csv\",encoding=\"latin-1\")\n",
    "events = pd.read_csv(\"events.csv\",encoding=\"latin-1\")\n",
    "events_more = pd.read_csv(\"events_more.csv\", encoding=\"latin-1\")"
   ]
  },
  {
   "cell_type": "code",
   "execution_count": 66,
   "metadata": {
    "ExecuteTime": {
     "end_time": "2019-05-26T11:24:20.384735Z",
     "start_time": "2019-05-26T11:24:15.946603Z"
    }
   },
   "outputs": [
    {
     "name": "stdout",
     "output_type": "stream",
     "text": [
      "502\n",
      "12809\n"
     ]
    }
   ],
   "source": [
    "g_using = {}\n",
    "for gid in events.group_id.unique():\n",
    "    g_using[gid] = set()\n",
    "for gid in events_more.group_id.unique():\n",
    "    g_using[gid] = set()\n",
    "for row in events.itertuples(index=True,name='Pandas'):\n",
    "    g_using[getattr(row,'group_id')].add(getattr(row,'venue_id'))\n",
    "for row in events_more.itertuples(index=True,name='Pandas'):\n",
    "    g_using[getattr(row,'group_id')].add(getattr(row,'venue_id'))\n",
    "    \n",
    "venue_to_venue = {}\n",
    "venue_adj_list = {}\n",
    "\n",
    "for row in events.itertuples(index=True, name='Pandas'):\n",
    "    for vid in g_using[getattr(row,'group_id')]:\n",
    "        if vid != getattr(row,'venue_id'):\n",
    "            if (getattr(row,'venue_id'),vid) not in venue_to_venue:\n",
    "                venue_to_venue[(getattr(row,'venue_id'),vid)] = set()\n",
    "            venue_to_venue[(getattr(row,'venue_id'),vid)].add(getattr(row,'group_id'))\n",
    "            if (vid,getattr(row,'venue_id')) not in venue_to_venue:\n",
    "                venue_to_venue[(vid,getattr(row,'venue_id'))] = set()\n",
    "            venue_to_venue[(vid,getattr(row,'venue_id'))].add(getattr(row,'group_id'))\n",
    "    if getattr(row,'venue_id') not in venue_adj_list:\n",
    "        venue_adj_list[getattr(row,'venue_id')] = []\n",
    "    venue_adj_list[getattr(row,'venue_id')].extend([x for x in list(g_using[getattr(row,'group_id')]) if x != getattr(row,'venue_id')])\n",
    "\n",
    "for row in events_more.itertuples(index=True, name='Pandas'):\n",
    "    for vid in g_using[getattr(row,'group_id')]:\n",
    "        if vid != getattr(row,'venue_id'):\n",
    "            if (getattr(row,'venue_id'),vid) not in venue_to_venue:\n",
    "                venue_to_venue[(getattr(row,'venue_id'),vid)] = set()\n",
    "            venue_to_venue[(getattr(row,'venue_id'),vid)].add(getattr(row,'group_id'))\n",
    "            if (vid,getattr(row,'venue_id')) not in venue_to_venue:\n",
    "                venue_to_venue[(vid,getattr(row,'venue_id'))] = set()\n",
    "            venue_to_venue[(vid,getattr(row,'venue_id'))].add(getattr(row,'group_id'))\n",
    "    if getattr(row,'venue_id') not in venue_adj_list:\n",
    "        venue_adj_list[getattr(row,'venue_id')] = []\n",
    "    venue_adj_list[getattr(row,'venue_id')].extend([x for x in list(g_using[getattr(row,'group_id')]) if x != getattr(row,'venue_id')])"
   ]
  },
  {
   "cell_type": "code",
   "execution_count": 60,
   "metadata": {
    "ExecuteTime": {
     "end_time": "2019-05-26T11:21:04.363735Z",
     "start_time": "2019-05-26T11:21:04.332292Z"
    }
   },
   "outputs": [],
   "source": [
    "groups_topics = pd.read_csv('groups_topics.csv',encoding='latin-1')"
   ]
  },
  {
   "cell_type": "code",
   "execution_count": 61,
   "metadata": {
    "ExecuteTime": {
     "end_time": "2019-05-26T11:21:04.373504Z",
     "start_time": "2019-05-26T11:21:04.365525Z"
    }
   },
   "outputs": [],
   "source": [
    "def get_common_topics(grouplist):\n",
    "    com = groups_topics[groups_topics['group_id'] == grouplist[0]].topic_id.unique()\n",
    "    for x in grouplist[1:]:\n",
    "        com = np.intersect1d(com,groups_topics[groups_topics['group_id'] == x].topic_id.unique())\n",
    "    com = [groups_topics[groups_topics['topic_id'] == x].topic_name.unique()[0] for x in com]\n",
    "    return com"
   ]
  },
  {
   "cell_type": "code",
   "execution_count": 62,
   "metadata": {
    "ExecuteTime": {
     "end_time": "2019-05-26T11:21:04.384476Z",
     "start_time": "2019-05-26T11:21:04.375500Z"
    }
   },
   "outputs": [
    {
     "data": {
      "text/plain": [
       "337522"
      ]
     },
     "execution_count": 62,
     "metadata": {},
     "output_type": "execute_result"
    }
   ],
   "source": [
    "len(venue_to_venue)"
   ]
  },
  {
   "cell_type": "code",
   "execution_count": null,
   "metadata": {
    "ExecuteTime": {
     "end_time": "2019-05-25T19:24:47.032318Z",
     "start_time": "2019-05-25T19:02:51.687799Z"
    }
   },
   "outputs": [],
   "source": [
    "new_dict_venue_to_venue = {'From': [], 'To': [], 'Number of Shared Groups': [], \n",
    "                           'Shared Groups': [], 'Common Topics of Groups': []}\n",
    "i = 0\n",
    "for key, value in venue_to_venue.items():\n",
    "    if i%10000 == 0:\n",
    "        print(i)\n",
    "    new_dict_venue_to_venue['From'].append(key[0])\n",
    "    new_dict_venue_to_venue['To'].append(key[1])\n",
    "    new_dict_venue_to_venue['Number of Shared Groups'].append(len(value))\n",
    "    new_dict_venue_to_venue['Shared Groups'].append(list(value))\n",
    "    new_dict_venue_to_venue['Common Topics of Groups'].append(get_common_topics(list(value)))\n",
    "    i += 1"
   ]
  },
  {
   "cell_type": "code",
   "execution_count": 14,
   "metadata": {
    "ExecuteTime": {
     "end_time": "2019-05-25T19:26:59.062700Z",
     "start_time": "2019-05-25T19:26:58.670876Z"
    }
   },
   "outputs": [],
   "source": [
    "df = pd.DataFrame.from_dict(new_dict_venue_to_venue)"
   ]
  },
  {
   "cell_type": "code",
   "execution_count": 15,
   "metadata": {
    "ExecuteTime": {
     "end_time": "2019-05-25T19:27:04.082678Z",
     "start_time": "2019-05-25T19:27:02.129585Z"
    }
   },
   "outputs": [],
   "source": [
    "df.to_csv('venues_edges.csv')"
   ]
  },
  {
   "cell_type": "code",
   "execution_count": 76,
   "metadata": {
    "ExecuteTime": {
     "end_time": "2019-05-26T11:32:09.431339Z",
     "start_time": "2019-05-26T11:32:09.401374Z"
    }
   },
   "outputs": [],
   "source": [
    "ogids = venues['venue_id'].unique()\n",
    "moreids = venues_more['venue_id'].unique()"
   ]
  },
  {
   "cell_type": "code",
   "execution_count": 78,
   "metadata": {
    "ExecuteTime": {
     "end_time": "2019-05-26T11:33:17.314118Z",
     "start_time": "2019-05-26T11:32:16.504687Z"
    }
   },
   "outputs": [
    {
     "name": "stdout",
     "output_type": "stream",
     "text": [
      "0\n",
      "100\n",
      "200\n",
      "300\n",
      "400\n",
      "500\n",
      "600\n",
      "700\n",
      "800\n",
      "900\n",
      "1000\n",
      "1100\n",
      "1200\n",
      "1300\n",
      "1400\n",
      "1500\n",
      "1600\n",
      "1700\n",
      "1800\n",
      "1900\n",
      "2000\n",
      "2100\n",
      "2200\n",
      "2300\n",
      "2400\n",
      "2500\n",
      "2600\n",
      "2700\n",
      "2800\n",
      "2900\n",
      "3000\n",
      "3100\n",
      "3200\n",
      "3300\n",
      "3400\n",
      "3500\n",
      "3600\n",
      "3700\n",
      "3800\n",
      "3900\n",
      "4000\n",
      "4100\n",
      "4200\n",
      "4300\n",
      "4400\n",
      "4500\n",
      "4600\n",
      "4700\n",
      "4800\n",
      "4900\n",
      "5000\n",
      "5100\n",
      "5200\n",
      "5300\n",
      "5400\n",
      "5500\n",
      "5600\n",
      "5700\n",
      "5800\n",
      "5900\n",
      "6000\n",
      "6100\n",
      "6200\n",
      "6300\n",
      "6400\n",
      "6500\n",
      "6600\n",
      "6700\n",
      "6800\n",
      "6900\n",
      "7000\n",
      "7100\n",
      "7200\n",
      "7300\n",
      "7400\n",
      "7500\n",
      "7600\n",
      "7700\n",
      "7800\n",
      "7900\n",
      "8000\n",
      "8100\n",
      "8200\n",
      "8300\n",
      "8400\n",
      "8500\n",
      "8600\n",
      "8700\n",
      "8800\n",
      "8900\n",
      "9000\n",
      "9100\n",
      "9200\n",
      "9300\n",
      "9400\n",
      "9500\n",
      "9600\n",
      "9700\n",
      "9800\n",
      "9900\n",
      "10000\n",
      "10100\n",
      "10200\n",
      "10300\n",
      "10400\n",
      "10500\n",
      "10600\n",
      "10700\n",
      "10800\n",
      "10900\n",
      "11000\n",
      "11100\n",
      "11200\n",
      "11300\n",
      "11400\n",
      "11500\n",
      "11600\n",
      "11700\n",
      "11800\n",
      "11900\n",
      "12000\n",
      "12100\n",
      "12200\n",
      "12300\n",
      "12400\n",
      "12500\n",
      "12600\n",
      "12700\n",
      "12800\n"
     ]
    }
   ],
   "source": [
    "node_df = pd.DataFrame(columns=['venue_id','venue_name','city'])\n",
    "noti = 0\n",
    "i = 0\n",
    "for venue in venue_adj_list.keys():\n",
    "    if i%100==0:\n",
    "        print(i)\n",
    "    i+=1\n",
    "    if venue in ogids:\n",
    "        row = venues[venues['venue_id'] == venue]\n",
    "        node_df = node_df.append({'venue_id': venue,\n",
    "                                 'venue_name': row['venue_name'].unique()[0],\n",
    "                                 'city': row['city'].unique()[0]},ignore_index=True)\n",
    "    elif venue in moreids:\n",
    "        row = venues_more[venues_more['venue_id'] == venue]\n",
    "        node_df = node_df.append({'venue_id': venue,\n",
    "                                 'venue_name': row['venue_name'].unique()[0],\n",
    "                                 'city': row['city'].unique()[0]},ignore_index=True)\n",
    "    else:\n",
    "        node_df = node_df.append({'venue_id': venue,\n",
    "                                 'venue_name': 'unk',\n",
    "                                 'city': 'unk'},ignore_index=True)\n",
    "        noti += 1"
   ]
  },
  {
   "cell_type": "code",
   "execution_count": 79,
   "metadata": {
    "ExecuteTime": {
     "end_time": "2019-05-26T11:33:20.077758Z",
     "start_time": "2019-05-26T11:33:20.070782Z"
    }
   },
   "outputs": [
    {
     "data": {
      "text/plain": [
       "84"
      ]
     },
     "execution_count": 79,
     "metadata": {},
     "output_type": "execute_result"
    }
   ],
   "source": [
    "noti"
   ]
  },
  {
   "cell_type": "code",
   "execution_count": 82,
   "metadata": {
    "ExecuteTime": {
     "end_time": "2019-05-26T11:33:34.385536Z",
     "start_time": "2019-05-26T11:33:34.351629Z"
    }
   },
   "outputs": [
    {
     "data": {
      "text/html": [
       "<div>\n",
       "<style scoped>\n",
       "    .dataframe tbody tr th:only-of-type {\n",
       "        vertical-align: middle;\n",
       "    }\n",
       "\n",
       "    .dataframe tbody tr th {\n",
       "        vertical-align: top;\n",
       "    }\n",
       "\n",
       "    .dataframe thead th {\n",
       "        text-align: right;\n",
       "    }\n",
       "</style>\n",
       "<table border=\"1\" class=\"dataframe\">\n",
       "  <thead>\n",
       "    <tr style=\"text-align: right;\">\n",
       "      <th></th>\n",
       "      <th>venue_id</th>\n",
       "      <th>venue_name</th>\n",
       "      <th>city</th>\n",
       "    </tr>\n",
       "  </thead>\n",
       "  <tbody>\n",
       "    <tr>\n",
       "      <th>0</th>\n",
       "      <td>23729697</td>\n",
       "      <td>Little Szechuan</td>\n",
       "      <td>San Francisco</td>\n",
       "    </tr>\n",
       "    <tr>\n",
       "      <th>1</th>\n",
       "      <td>16948982</td>\n",
       "      <td>Horizon Lounge</td>\n",
       "      <td>San Francisco</td>\n",
       "    </tr>\n",
       "    <tr>\n",
       "      <th>2</th>\n",
       "      <td>24717469</td>\n",
       "      <td>taste of vietnam noodle bar</td>\n",
       "      <td>San Francisco</td>\n",
       "    </tr>\n",
       "    <tr>\n",
       "      <th>3</th>\n",
       "      <td>724783</td>\n",
       "      <td>Horizon</td>\n",
       "      <td>San Francisco</td>\n",
       "    </tr>\n",
       "    <tr>\n",
       "      <th>4</th>\n",
       "      <td>20984572</td>\n",
       "      <td>Score! Bar and Lounge</td>\n",
       "      <td>San Francisco</td>\n",
       "    </tr>\n",
       "  </tbody>\n",
       "</table>\n",
       "</div>"
      ],
      "text/plain": [
       "   venue_id                   venue_name           city\n",
       "0  23729697              Little Szechuan  San Francisco\n",
       "1  16948982               Horizon Lounge  San Francisco\n",
       "2  24717469  taste of vietnam noodle bar  San Francisco\n",
       "3    724783                      Horizon  San Francisco\n",
       "4  20984572        Score! Bar and Lounge  San Francisco"
      ]
     },
     "execution_count": 82,
     "metadata": {},
     "output_type": "execute_result"
    }
   ],
   "source": [
    "node_df.head()"
   ]
  },
  {
   "cell_type": "code",
   "execution_count": 80,
   "metadata": {
    "ExecuteTime": {
     "end_time": "2019-05-26T11:33:26.269621Z",
     "start_time": "2019-05-26T11:33:26.119981Z"
    }
   },
   "outputs": [],
   "source": [
    "node_df.to_csv('venues_nodes.csv')"
   ]
  },
  {
   "cell_type": "code",
   "execution_count": 81,
   "metadata": {
    "ExecuteTime": {
     "end_time": "2019-05-26T11:33:27.506595Z",
     "start_time": "2019-05-26T11:33:27.499614Z"
    }
   },
   "outputs": [
    {
     "data": {
      "text/plain": [
       "(337522, 12809)"
      ]
     },
     "execution_count": 81,
     "metadata": {},
     "output_type": "execute_result"
    }
   ],
   "source": [
    "len(df), len(node_df)"
   ]
  }
 ],
 "metadata": {
  "kernelspec": {
   "display_name": "Python 3",
   "language": "python",
   "name": "python3"
  },
  "language_info": {
   "codemirror_mode": {
    "name": "ipython",
    "version": 3
   },
   "file_extension": ".py",
   "mimetype": "text/x-python",
   "name": "python",
   "nbconvert_exporter": "python",
   "pygments_lexer": "ipython3",
   "version": "3.6.8"
  }
 },
 "nbformat": 4,
 "nbformat_minor": 2
}
