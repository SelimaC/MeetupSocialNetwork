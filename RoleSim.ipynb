{
  "nbformat": 4,
  "nbformat_minor": 0,
  "metadata": {
    "colab": {
      "name": "RoleSim.ipynb",
      "version": "0.3.2",
      "provenance": [],
      "collapsed_sections": []
    },
    "kernelspec": {
      "name": "python3",
      "display_name": "Python 3"
    }
  },
  "cells": [
    {
      "cell_type": "code",
      "metadata": {
        "id": "yQwXmh-h3YnL",
        "colab_type": "code",
        "colab": {}
      },
      "source": [
        "import numpy as np\n",
        "import pandas as pd\n",
        "from itertools import combinations "
      ],
      "execution_count": 0,
      "outputs": []
    },
    {
      "cell_type": "code",
      "metadata": {
        "id": "5fEaEisZ19ux",
        "colab_type": "code",
        "colab": {}
      },
      "source": [
        "!wget -q https://s3.eu-central-1.amazonaws.com/meetupsocialnetwork/group_nw_.csv\n",
        "  \n",
        "!wget -q https://s3.eu-central-1.amazonaws.com/meetupsocialnetwork/groups_nodefile.csv"
      ],
      "execution_count": 0,
      "outputs": []
    },
    {
      "cell_type": "code",
      "metadata": {
        "id": "44ScMkml2_e2",
        "colab_type": "code",
        "outputId": "4ab8a1be-9ca8-4e2e-e1c2-3ae225afde2a",
        "colab": {
          "base_uri": "https://localhost:8080/",
          "height": 286
        }
      },
      "source": [
        "group_edge = pd.read_csv(\"group_nw_.csv\")\n",
        "group_node = pd.read_csv(\"groups_nodefile.csv\")\n",
        "\n",
        "print(group_node.head())\n",
        "print(group_edge.head())"
      ],
      "execution_count": 0,
      "outputs": [
        {
          "output_type": "stream",
          "text": [
            "   NodeId                      GroupName  ...         Date Created  Rating\n",
            "0    6388         Alternative Health NYC  ...  2002-11-21 16:50:46    4.39\n",
            "1    6510      Alternative Energy Meetup  ...  2003-05-20 14:48:54    4.31\n",
            "2    8458              NYC Animal Rights  ...  2004-03-27 09:55:41    4.84\n",
            "3    8940  The New York City Anime Group  ...  2002-11-16 04:49:16    4.46\n",
            "4   10104             NYC Pit Bull Group  ...  2003-10-22 21:39:49    4.09\n",
            "\n",
            "[5 rows x 7 columns]\n",
            "   Unnamed: 0  ...                                       comm_members\n",
            "0           0  ...  [3, 1418715, 1671282, 2148610, 2319427, 270929...\n",
            "1           1  ...  [3, 1418715, 1584644, 2148610, 2709298, 330086...\n",
            "2           2  ...  [3, 1418715, 1597206, 1671282, 2148610, 222025...\n",
            "3           3  ...  [3, 1418715, 1597206, 1671282, 2148610, 249616...\n",
            "4           4  ...  [3, 1584644, 1597206, 2684823, 2741328, 318142...\n",
            "\n",
            "[5 rows x 6 columns]\n"
          ],
          "name": "stdout"
        }
      ]
    },
    {
      "cell_type": "code",
      "metadata": {
        "id": "SPe8kTo06KNg",
        "colab_type": "code",
        "outputId": "1656c5c2-b27e-4e8d-a90c-a91d3a988b8f",
        "colab": {
          "base_uri": "https://localhost:8080/",
          "height": 195
        }
      },
      "source": [
        "group_node.head()\n"
      ],
      "execution_count": 0,
      "outputs": [
        {
          "output_type": "execute_result",
          "data": {
            "text/html": [
              "<div>\n",
              "<style scoped>\n",
              "    .dataframe tbody tr th:only-of-type {\n",
              "        vertical-align: middle;\n",
              "    }\n",
              "\n",
              "    .dataframe tbody tr th {\n",
              "        vertical-align: top;\n",
              "    }\n",
              "\n",
              "    .dataframe thead th {\n",
              "        text-align: right;\n",
              "    }\n",
              "</style>\n",
              "<table border=\"1\" class=\"dataframe\">\n",
              "  <thead>\n",
              "    <tr style=\"text-align: right;\">\n",
              "      <th></th>\n",
              "      <th>NodeId</th>\n",
              "      <th>GroupName</th>\n",
              "      <th>CategoryID</th>\n",
              "      <th># Members</th>\n",
              "      <th>City</th>\n",
              "      <th>Date Created</th>\n",
              "      <th>Rating</th>\n",
              "    </tr>\n",
              "  </thead>\n",
              "  <tbody>\n",
              "    <tr>\n",
              "      <th>0</th>\n",
              "      <td>6388</td>\n",
              "      <td>Alternative Health NYC</td>\n",
              "      <td>14</td>\n",
              "      <td>1440</td>\n",
              "      <td>New York</td>\n",
              "      <td>2002-11-21 16:50:46</td>\n",
              "      <td>4.39</td>\n",
              "    </tr>\n",
              "    <tr>\n",
              "      <th>1</th>\n",
              "      <td>6510</td>\n",
              "      <td>Alternative Energy Meetup</td>\n",
              "      <td>4</td>\n",
              "      <td>969</td>\n",
              "      <td>New York</td>\n",
              "      <td>2003-05-20 14:48:54</td>\n",
              "      <td>4.31</td>\n",
              "    </tr>\n",
              "    <tr>\n",
              "      <th>2</th>\n",
              "      <td>8458</td>\n",
              "      <td>NYC Animal Rights</td>\n",
              "      <td>26</td>\n",
              "      <td>2930</td>\n",
              "      <td>New York</td>\n",
              "      <td>2004-03-27 09:55:41</td>\n",
              "      <td>4.84</td>\n",
              "    </tr>\n",
              "    <tr>\n",
              "      <th>3</th>\n",
              "      <td>8940</td>\n",
              "      <td>The New York City Anime Group</td>\n",
              "      <td>29</td>\n",
              "      <td>5080</td>\n",
              "      <td>New York</td>\n",
              "      <td>2002-11-16 04:49:16</td>\n",
              "      <td>4.46</td>\n",
              "    </tr>\n",
              "    <tr>\n",
              "      <th>4</th>\n",
              "      <td>10104</td>\n",
              "      <td>NYC Pit Bull Group</td>\n",
              "      <td>26</td>\n",
              "      <td>2097</td>\n",
              "      <td>New York</td>\n",
              "      <td>2003-10-22 21:39:49</td>\n",
              "      <td>4.09</td>\n",
              "    </tr>\n",
              "  </tbody>\n",
              "</table>\n",
              "</div>"
            ],
            "text/plain": [
              "   NodeId                      GroupName  ...         Date Created  Rating\n",
              "0    6388         Alternative Health NYC  ...  2002-11-21 16:50:46    4.39\n",
              "1    6510      Alternative Energy Meetup  ...  2003-05-20 14:48:54    4.31\n",
              "2    8458              NYC Animal Rights  ...  2004-03-27 09:55:41    4.84\n",
              "3    8940  The New York City Anime Group  ...  2002-11-16 04:49:16    4.46\n",
              "4   10104             NYC Pit Bull Group  ...  2003-10-22 21:39:49    4.09\n",
              "\n",
              "[5 rows x 7 columns]"
            ]
          },
          "metadata": {
            "tags": []
          },
          "execution_count": 9
        }
      ]
    },
    {
      "cell_type": "code",
      "metadata": {
        "id": "GUv5RwXB6LDs",
        "colab_type": "code",
        "outputId": "543dc42c-3ca2-4d97-cc35-523d151de2f3",
        "colab": {
          "base_uri": "https://localhost:8080/",
          "height": 195
        }
      },
      "source": [
        "group_edge.head()"
      ],
      "execution_count": 0,
      "outputs": [
        {
          "output_type": "execute_result",
          "data": {
            "text/html": [
              "<div>\n",
              "<style scoped>\n",
              "    .dataframe tbody tr th:only-of-type {\n",
              "        vertical-align: middle;\n",
              "    }\n",
              "\n",
              "    .dataframe tbody tr th {\n",
              "        vertical-align: top;\n",
              "    }\n",
              "\n",
              "    .dataframe thead th {\n",
              "        text-align: right;\n",
              "    }\n",
              "</style>\n",
              "<table border=\"1\" class=\"dataframe\">\n",
              "  <thead>\n",
              "    <tr style=\"text-align: right;\">\n",
              "      <th></th>\n",
              "      <th>Unnamed: 0</th>\n",
              "      <th>EdgeID</th>\n",
              "      <th>group_from</th>\n",
              "      <th>group_to</th>\n",
              "      <th>weight</th>\n",
              "      <th>comm_members</th>\n",
              "    </tr>\n",
              "  </thead>\n",
              "  <tbody>\n",
              "    <tr>\n",
              "      <th>0</th>\n",
              "      <td>0</td>\n",
              "      <td>0</td>\n",
              "      <td>490552</td>\n",
              "      <td>1474611</td>\n",
              "      <td>57</td>\n",
              "      <td>[3, 1418715, 1671282, 2148610, 2319427, 270929...</td>\n",
              "    </tr>\n",
              "    <tr>\n",
              "      <th>1</th>\n",
              "      <td>1</td>\n",
              "      <td>1</td>\n",
              "      <td>490552</td>\n",
              "      <td>1490492</td>\n",
              "      <td>66</td>\n",
              "      <td>[3, 1418715, 1584644, 2148610, 2709298, 330086...</td>\n",
              "    </tr>\n",
              "    <tr>\n",
              "      <th>2</th>\n",
              "      <td>2</td>\n",
              "      <td>2</td>\n",
              "      <td>490552</td>\n",
              "      <td>1515830</td>\n",
              "      <td>167</td>\n",
              "      <td>[3, 1418715, 1597206, 1671282, 2148610, 222025...</td>\n",
              "    </tr>\n",
              "    <tr>\n",
              "      <th>3</th>\n",
              "      <td>3</td>\n",
              "      <td>3</td>\n",
              "      <td>490552</td>\n",
              "      <td>1574965</td>\n",
              "      <td>46</td>\n",
              "      <td>[3, 1418715, 1597206, 1671282, 2148610, 249616...</td>\n",
              "    </tr>\n",
              "    <tr>\n",
              "      <th>4</th>\n",
              "      <td>4</td>\n",
              "      <td>4</td>\n",
              "      <td>490552</td>\n",
              "      <td>1669000</td>\n",
              "      <td>62</td>\n",
              "      <td>[3, 1584644, 1597206, 2684823, 2741328, 318142...</td>\n",
              "    </tr>\n",
              "  </tbody>\n",
              "</table>\n",
              "</div>"
            ],
            "text/plain": [
              "   Unnamed: 0  ...                                       comm_members\n",
              "0           0  ...  [3, 1418715, 1671282, 2148610, 2319427, 270929...\n",
              "1           1  ...  [3, 1418715, 1584644, 2148610, 2709298, 330086...\n",
              "2           2  ...  [3, 1418715, 1597206, 1671282, 2148610, 222025...\n",
              "3           3  ...  [3, 1418715, 1597206, 1671282, 2148610, 249616...\n",
              "4           4  ...  [3, 1584644, 1597206, 2684823, 2741328, 318142...\n",
              "\n",
              "[5 rows x 6 columns]"
            ]
          },
          "metadata": {
            "tags": []
          },
          "execution_count": 10
        }
      ]
    },
    {
      "cell_type": "code",
      "metadata": {
        "id": "nGYAvU_DKE5f",
        "colab_type": "code",
        "outputId": "5ecd7f38-2ee1-4bc2-982e-a57f572689cc",
        "colab": {
          "base_uri": "https://localhost:8080/",
          "height": 54
        }
      },
      "source": [
        "l = [2,4,5,6,7,8,9]\n",
        "\n",
        "ll = list(combinations(l, 3))\n",
        "print(ll)"
      ],
      "execution_count": 0,
      "outputs": [
        {
          "output_type": "stream",
          "text": [
            "[(2, 4, 5), (2, 4, 6), (2, 4, 7), (2, 4, 8), (2, 4, 9), (2, 5, 6), (2, 5, 7), (2, 5, 8), (2, 5, 9), (2, 6, 7), (2, 6, 8), (2, 6, 9), (2, 7, 8), (2, 7, 9), (2, 8, 9), (4, 5, 6), (4, 5, 7), (4, 5, 8), (4, 5, 9), (4, 6, 7), (4, 6, 8), (4, 6, 9), (4, 7, 8), (4, 7, 9), (4, 8, 9), (5, 6, 7), (5, 6, 8), (5, 6, 9), (5, 7, 8), (5, 7, 9), (5, 8, 9), (6, 7, 8), (6, 7, 9), (6, 8, 9), (7, 8, 9)]\n"
          ],
          "name": "stdout"
        }
      ]
    },
    {
      "cell_type": "code",
      "metadata": {
        "id": "nrb5Bndb6LHD",
        "colab_type": "code",
        "outputId": "d5cd8f17-4a0b-43e8-a093-04577ec0be4d",
        "colab": {
          "base_uri": "https://localhost:8080/",
          "height": 279
        }
      },
      "source": [
        "beta = 0.3\n",
        "theta = 0.6\n",
        "nodes = group_node[\"NodeId\"]\n",
        "print(nodes[0])\n",
        "\n",
        "print(group_edge.shape[0])\n",
        "group_edge.drop(group_edge.loc[group_edge['weight'] == 1].index, inplace=True)\n",
        "group_edge.drop(group_edge.loc[group_edge['weight'] == 2].index, inplace=True)\n",
        "group_edge.drop(group_edge.loc[group_edge['weight'] == 3].index, inplace=True)\n",
        "group_edge.drop(group_edge.loc[group_edge['weight'] == 4].index, inplace=True)\n",
        "print(group_edge.shape[0])\n",
        "#temp = group_edge.loc[group_edge['group_from'] == nodes[0]]\n",
        "#print(group_edge.loc[group_edge['group_from'] == nodes[0]].shape[0])\n",
        "H = {}\n",
        "node_pairs = list(combinations(nodes, 2))\n",
        "RoleSim = {}\n",
        "for pair in node_pairs:\n",
        "  RoleSim[pair] = 1\n",
        "  \n",
        "  \n",
        "def calc_weight(u, v):\n",
        "  neigh1 = list(group_edge.loc[group_edge['group_from'] == u]['group_to'])\n",
        "  neigh2 = list(group_edge.loc[group_edge['group_from'] == v]['group_to'])\n",
        "  max_weight = 0\n",
        "  n = len(neigh1)\n",
        "  v_trips = list(combinations(neigh2, n))\n",
        "  del neigh2\n",
        "  for triples in v_trips:\n",
        "    for n1 in neigh1:\n",
        "      temp = RoleSim[(n1, triples[0])] + RoleSim[(n1, triples[1])] + RoleSim[(n1, triples[2])]\n",
        "      if temp > max_weight:\n",
        "        max_weight = temp\n",
        "  return max_weight, n\n",
        "  \n",
        "  \n",
        "degrees = {}\n",
        "for n in nodes:\n",
        "  temp = group_edge.loc[group_edge['group_from'] == n]\n",
        "  degrees[n] = []\n",
        "  degrees[n].append(temp.shape[0])\n",
        "  temp1 = []\n",
        "  for neigh in list(temp['group_to']):\n",
        "    if neigh in degrees:\n",
        "      temp1.append(degrees[neigh][0])\n",
        "    else:\n",
        "      temp1.append(group_edge.loc[group_edge['group_from'] == neigh].shape[0])\n",
        "  temp1.sort()\n",
        "  degrees[n].append(temp1)\n",
        "  del temp1\n",
        "  del temp\n",
        "\n",
        "for n1 in nodes:\n",
        "  for n2 in nodes:\n",
        "    if n1 == n2:\n",
        "      continue\n",
        "    if (theta * degrees[n1][0] < degrees[n2][0] < degrees[n1][0]):\n",
        "      m11 = (1 - beta) * (min(degrees[n1][1][0])/max(degrees[n2][1][0])) + beta\n",
        "      if (degrees[n2][1][0] <= degrees[n1][1][0]) and (degrees[n1][0] -1 + m11 < theta * degrees[n2][0]):\n",
        "        continue\n",
        "      if n1 < n2:\n",
        "        w = calc_weight(n1, n2)\n",
        "      else:\n",
        "        w = calc_weight(n2, n1)\n",
        "      if (w >= theta * degrees[n1][0]):\n",
        "        H[(n1, n2)] = ((1 - beta) * w )/degrees[n1][0] + beta\n",
        "      \n",
        "      \n",
        "def calc_rolesim(nodes_pair, beta):\n",
        "  for pair in nodes_pair:\n",
        "    \n",
        "    if pair[0] < pair[1]: \n",
        "      wt, n = calc_weight(pair[0], pair[1])\n",
        "      RoleSim[pair] = ((1 - beta) * (wt / (degrees[pair[0]]) + degrees[pair[1]] - n)) + beta\n",
        "      \n",
        "    else:\n",
        "      wt, n = calc_weight(pair[1], pair[0])\n",
        "      RoleSim[pair] = ((1 - beta) * (wt / (degrees[pair[0]]) + degrees[pair[1]] - n)) + beta"
      ],
      "execution_count": 0,
      "outputs": [
        {
          "output_type": "stream",
          "text": [
            "6388\n",
            "10969547\n",
            "3105083\n"
          ],
          "name": "stdout"
        },
        {
          "output_type": "error",
          "ename": "NameError",
          "evalue": "ignored",
          "traceback": [
            "\u001b[0;31m---------------------------------------------------------------------------\u001b[0m",
            "\u001b[0;31mNameError\u001b[0m                                 Traceback (most recent call last)",
            "\u001b[0;32m<ipython-input-4-0956f240ccdc>\u001b[0m in \u001b[0;36m<module>\u001b[0;34m()\u001b[0m\n\u001b[1;32m     16\u001b[0m \u001b[0mRoleSim\u001b[0m \u001b[0;34m=\u001b[0m \u001b[0;34m{\u001b[0m\u001b[0;34m}\u001b[0m\u001b[0;34m\u001b[0m\u001b[0;34m\u001b[0m\u001b[0m\n\u001b[1;32m     17\u001b[0m \u001b[0;32mfor\u001b[0m \u001b[0mpairs\u001b[0m \u001b[0;32min\u001b[0m \u001b[0mnode_pairs\u001b[0m\u001b[0;34m:\u001b[0m\u001b[0;34m\u001b[0m\u001b[0;34m\u001b[0m\u001b[0m\n\u001b[0;32m---> 18\u001b[0;31m   \u001b[0mRoleSim\u001b[0m\u001b[0;34m[\u001b[0m\u001b[0mpair\u001b[0m\u001b[0;34m]\u001b[0m \u001b[0;34m=\u001b[0m \u001b[0;36m1\u001b[0m\u001b[0;34m\u001b[0m\u001b[0;34m\u001b[0m\u001b[0m\n\u001b[0m\u001b[1;32m     19\u001b[0m \u001b[0;34m\u001b[0m\u001b[0m\n\u001b[1;32m     20\u001b[0m \u001b[0;34m\u001b[0m\u001b[0m\n",
            "\u001b[0;31mNameError\u001b[0m: name 'pair' is not defined"
          ]
        }
      ]
    }
  ]
}